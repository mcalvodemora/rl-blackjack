{
 "cells": [
  {
   "cell_type": "markdown",
   "id": "5cf95c52",
   "metadata": {},
   "source": [
    "## Dueling DQN"
   ]
  },
  {
   "cell_type": "markdown",
   "id": "3b64c5ef",
   "metadata": {},
   "source": [
    "#### Autores:\n",
    "- Celia Quiles Aleman - 202315604@alu.comillas.edu\n",
    " - Álvaro Ezquerro Pérez - alvaroezquerro@alu.comillas.edu\n",
    " - María Calvo de Mora Román - 202320059@alu.comillas.edu\n",
    "\n",
    "#### Desarrollado por:\n",
    "Álvaro Ezquerro Pérez"
   ]
  },
  {
   "cell_type": "code",
   "execution_count": 1,
   "id": "9e9bc5b4",
   "metadata": {},
   "outputs": [],
   "source": [
    "import torch\n",
    "import torch.nn as nn\n",
    "import numpy as np\n",
    "\n",
    "from src.DDQN_nn import Memory, DuelingQNetwork\n",
    "from src.utils.plotting import plot_blackjack_performance\n",
    "from tqdm import tqdm\n",
    "import gym\n",
    "\n",
    "import warnings\n",
    "warnings.filterwarnings('ignore')"
   ]
  },
  {
   "cell_type": "code",
   "execution_count": 2,
   "id": "611e98d5",
   "metadata": {},
   "outputs": [],
   "source": [
    "STORE_PATH = 'src/models/'\n",
    "MAX_EPSILON = 1\n",
    "MIN_EPSILON = 0.01\n",
    "LAMBDA = 0.001\n",
    "GAMMA = 0.99\n",
    "BATCH_SIZE = 64\n",
    "TAU = 0.001\n",
    "RANDOM_REWARD_STD = 0.1"
   ]
  },
  {
   "cell_type": "code",
   "execution_count": 3,
   "id": "d9a36ca7",
   "metadata": {},
   "outputs": [
    {
     "name": "stdout",
     "output_type": "stream",
     "text": [
      "Action Space Discrete(2)\n",
      "State Space Tuple(Discrete(32), Discrete(11), Discrete(2)).\n"
     ]
    }
   ],
   "source": [
    "# Definir el entorno\n",
    "env = gym.make('Blackjack-v1', natural=False)\n",
    "\n",
    "# Información del entorno\n",
    "print(\"Action Space {}\". format(env.action_space))\n",
    "print(\"State Space {}.\". format(env.observation_space))"
   ]
  },
  {
   "cell_type": "code",
   "execution_count": 4,
   "id": "2477b750",
   "metadata": {},
   "outputs": [],
   "source": [
    "# Instantiate rng\n",
    "rng = np.random.default_rng(2024)\n",
    "torch.manual_seed(2024)\n",
    "\n",
    "# Instantiate the memory\n",
    "memory = Memory(500000)\n",
    "\n",
    "# Instantiate the networks\n",
    "input_size = len(env.observation_space)\n",
    "num_actions = env.action_space.n\n",
    "primary_network = DuelingQNetwork(input_size, num_actions)\n",
    "target_network = DuelingQNetwork(input_size, num_actions)\n",
    "\n",
    "# Define optimizer and loss function\n",
    "optimizer = torch.optim.Adam(primary_network.parameters())\n",
    "loss_fn = nn.MSELoss()"
   ]
  },
  {
   "cell_type": "code",
   "execution_count": 5,
   "id": "00ea33e3",
   "metadata": {},
   "outputs": [],
   "source": [
    "def choose_action(state, network, eps, rng):\n",
    "    if eps is not None and rng.random() < eps :\n",
    "        return rng.integers(0, num_actions)\n",
    "    else:\n",
    "        return np.argmax(network(state.reshape(1, -1)).detach().numpy())\n"
   ]
  },
  {
   "cell_type": "code",
   "execution_count": 6,
   "id": "b598d0a9",
   "metadata": {},
   "outputs": [],
   "source": [
    "def train(primary_network, memory, target_network=None):\n",
    "    if memory.num_samples < BATCH_SIZE * 3:\n",
    "        return 0\n",
    "    \n",
    "    batch = memory.sample(BATCH_SIZE)\n",
    "    states = np.array([val[0] for val in batch])\n",
    "    actions = np.array([val[1] for val in batch])\n",
    "    rewards = np.array([val[2] for val in batch])\n",
    "    next_states = np.array([(np.zeros(input_size) if val[3] is None else val[3]) for val in batch])\n",
    "    \n",
    "    states = torch.tensor(states, dtype=torch.float32)\n",
    "    actions = torch.tensor(actions, dtype=torch.int16)\n",
    "    rewards = torch.tensor(rewards, dtype=torch.float32)\n",
    "    next_states = torch.tensor(next_states, dtype=torch.float32)\n",
    "    \n",
    "    # Predict Q(s,a) given the batch of states\n",
    "    prim_qt = primary_network(states)\n",
    "    \n",
    "    # Predict Q(s',a') from the evaluation network\n",
    "    prim_qtp1 = primary_network(next_states)\n",
    "    \n",
    "    target_q = prim_qt.clone().detach()  # Target Q-value\n",
    "    \n",
    "    with torch.no_grad():\n",
    "        if target_network is None:\n",
    "            prim_qtp1_values = prim_qtp1.detach()\n",
    "            updates = rewards + GAMMA * torch.max(prim_qtp1_values, dim=1)[0] * (1 - next_states.sum(dim=1).eq(0).float())\n",
    "        else:\n",
    "            prim_action_tp1 = torch.argmax(prim_qtp1, dim=1)\n",
    "            q_from_target = target_network(next_states)\n",
    "            updates = rewards + GAMMA * q_from_target[torch.arange(BATCH_SIZE), prim_action_tp1]\n",
    "    \n",
    "    target_q[torch.arange(BATCH_SIZE), actions.long()] = updates\n",
    "    \n",
    "    loss_fn = nn.MSELoss()\n",
    "    loss = loss_fn(prim_qt, target_q)\n",
    "    \n",
    "    optimizer.zero_grad()\n",
    "    loss.backward()\n",
    "    optimizer.step()\n",
    "    \n",
    "    if target_network is not None:\n",
    "        for target_param, primary_param in zip(target_network.parameters(), primary_network.parameters()):\n",
    "            target_param.data.copy_(primary_param.data * (1.0 - TAU) + target_param.data * TAU)\n",
    "    \n",
    "    return loss.item()"
   ]
  },
  {
   "cell_type": "markdown",
   "id": "e78c12b4",
   "metadata": {},
   "source": [
    "### Dueling DQN"
   ]
  },
  {
   "cell_type": "code",
   "execution_count": 8,
   "id": "e2def11b",
   "metadata": {},
   "outputs": [],
   "source": [
    "primary_network = torch.load(STORE_PATH + f\"pDDQN_{200000}\")"
   ]
  },
  {
   "cell_type": "code",
   "execution_count": 7,
   "id": "3e014088",
   "metadata": {},
   "outputs": [
    {
     "name": "stderr",
     "output_type": "stream",
     "text": [
      "100%|██████████| 200000/200000 [09:31<00:00, 349.70it/s]\n"
     ]
    },
    {
     "name": "stdout",
     "output_type": "stream",
     "text": [
      "Model trained with 200000 episodes\n"
     ]
    }
   ],
   "source": [
    "num_episodes = 200_000\n",
    "eps = MAX_EPSILON\n",
    "render = False\n",
    "steps = 0\n",
    "for i in tqdm(range(num_episodes)):\n",
    "    state, info = env.reset()\n",
    "    while True:\n",
    "        if render:\n",
    "            env.render()\n",
    "            \n",
    "        state = torch.tensor(state, dtype=torch.float32)\n",
    "        action = choose_action(state, primary_network, eps, rng)\n",
    "        next_state, reward, done, tr, info = env.step(action)\n",
    "        reward = np.random.normal(1.0, RANDOM_REWARD_STD)\n",
    "        if done:\n",
    "            next_state = None\n",
    "\n",
    "        # store in memory\n",
    "        memory.add_sample((state, action, reward, next_state))\n",
    "\n",
    "        loss = train(primary_network, memory, target_network=target_network)\n",
    "\n",
    "        state = next_state\n",
    "\n",
    "        # exponentially decay the eps value\n",
    "        steps += 1\n",
    "        eps = MIN_EPSILON + (MAX_EPSILON - MIN_EPSILON) * np.exp(-LAMBDA * steps)\n",
    "        \n",
    "        if done:\n",
    "            break\n",
    "\n",
    "print(f\"Model trained with {num_episodes} episodes\")\n",
    "\n",
    "torch.save(primary_network, STORE_PATH + f\"pDDQN_{num_episodes}\")"
   ]
  },
  {
   "cell_type": "code",
   "execution_count": 9,
   "id": "ba78927f",
   "metadata": {},
   "outputs": [
    {
     "name": "stderr",
     "output_type": "stream",
     "text": [
      "  0%|          | 0/1000 [00:00<?, ?it/s]"
     ]
    },
    {
     "name": "stderr",
     "output_type": "stream",
     "text": [
      "100%|██████████| 1000/1000 [00:00<00:00, 2716.78it/s]\n"
     ]
    },
    {
     "name": "stdout",
     "output_type": "stream",
     "text": [
      "Average reward: -0.175, Average episode length: 1.0\n"
     ]
    },
    {
     "data": {
      "image/png": "[encoded data removed]",
      "text/plain": [
       "<Figure size 1600x900 with 1 Axes>"
      ]
     },
     "metadata": {},
     "output_type": "display_data"
    }
   ],
   "source": [
    "def evaluate_duelingdqn_agent(env, network, num_episodes=1000):\n",
    "    total_rewards = []\n",
    "    total_steps = 0\n",
    "\n",
    "    for _ in tqdm(range(num_episodes)):\n",
    "        state, _ = env.reset()\n",
    "        episode_reward = 0\n",
    "        episode_steps = 0\n",
    "\n",
    "        while True:\n",
    "            state = torch.tensor(state, dtype=torch.float32)\n",
    "            action = choose_action(state, network, None, rng)\n",
    "            next_state, reward, done, _, _ = env.step(action)\n",
    "\n",
    "            episode_reward += reward\n",
    "            episode_steps += 1\n",
    "\n",
    "            if done:\n",
    "                break\n",
    "\n",
    "            state = next_state\n",
    "\n",
    "\n",
    "        total_rewards.append(episode_reward) \n",
    "        total_steps += episode_steps\n",
    "\n",
    "    avg_reward = sum(total_rewards) / num_episodes\n",
    "    avg_episode_length = total_steps / num_episodes\n",
    "\n",
    "    return avg_reward, avg_episode_length, total_rewards\n",
    "\n",
    "# Example usage:\n",
    "avg_reward, avg_episode_length, total_rewards= evaluate_duelingdqn_agent(env, primary_network, num_episodes=1000)\n",
    "print(f\"Average reward: {avg_reward}, Average episode length: {avg_episode_length}\")\n",
    "plot_blackjack_performance(total_rewards, \"Dueling DQN performance\")"
   ]
  },
  {
   "cell_type": "code",
   "execution_count": 10,
   "id": "e4627194",
   "metadata": {},
   "outputs": [],
   "source": [
    "env.close()"
   ]
  },
  {
   "cell_type": "markdown",
   "id": "76ff3678",
   "metadata": {},
   "source": [
    "### Dueling QN"
   ]
  },
  {
   "cell_type": "code",
   "execution_count": 11,
   "id": "886a7213",
   "metadata": {},
   "outputs": [
    {
     "name": "stdout",
     "output_type": "stream",
     "text": [
      "Action Space Discrete(2)\n",
      "State Space Tuple(Discrete(32), Discrete(11), Discrete(2)).\n"
     ]
    }
   ],
   "source": [
    "# Definir el entorno\n",
    "env = gym.make('Blackjack-v1', natural=False)\n",
    "\n",
    "# Información del entorno\n",
    "print(\"Action Space {}\". format(env.action_space))\n",
    "print(\"State Space {}.\". format(env.observation_space))"
   ]
  },
  {
   "cell_type": "code",
   "execution_count": 12,
   "id": "68c13fa3",
   "metadata": {},
   "outputs": [],
   "source": [
    "# Instantiate rng\n",
    "rng = np.random.default_rng(2024)\n",
    "torch.manual_seed(2024)\n",
    "\n",
    "# Instantiate the memory\n",
    "memory = Memory(500000)\n",
    "\n",
    "# Instantiate the networks\n",
    "input_size = len(env.observation_space)\n",
    "num_actions = env.action_space.n\n",
    "dueling_network = DuelingQNetwork(input_size, num_actions)\n",
    "\n",
    "# Define optimizer and loss function\n",
    "optimizer = torch.optim.Adam(dueling_network.parameters())\n",
    "loss_fn = nn.MSELoss()"
   ]
  },
  {
   "cell_type": "code",
   "execution_count": 13,
   "id": "f4564f28",
   "metadata": {},
   "outputs": [],
   "source": [
    "dueling_network = torch.load(STORE_PATH + f\"pDuelingQN_{100000}\")"
   ]
  },
  {
   "cell_type": "code",
   "execution_count": 27,
   "id": "df811fc4",
   "metadata": {},
   "outputs": [
    {
     "name": "stderr",
     "output_type": "stream",
     "text": [
      "100%|██████████| 100000/100000 [04:29<00:00, 371.38it/s]"
     ]
    },
    {
     "name": "stdout",
     "output_type": "stream",
     "text": [
      "Model trained with 100000 episodes\n"
     ]
    },
    {
     "name": "stderr",
     "output_type": "stream",
     "text": [
      "\n"
     ]
    }
   ],
   "source": [
    "num_episodes = 100_000\n",
    "eps = MAX_EPSILON\n",
    "render = False\n",
    "steps = 0\n",
    "for i in tqdm(range(num_episodes)):\n",
    "    state, info = env.reset()\n",
    "    while True:\n",
    "        if render:\n",
    "            env.render()\n",
    "            \n",
    "        state = torch.tensor(state, dtype=torch.float32)\n",
    "        action = choose_action(state, dueling_network, eps, rng)\n",
    "        next_state, reward, done, tr, info = env.step(action)\n",
    "        reward = np.random.normal(1.0, RANDOM_REWARD_STD)\n",
    "        if done:\n",
    "            next_state = None\n",
    "\n",
    "        # store in memory\n",
    "        memory.add_sample((state, action, reward, next_state))\n",
    "\n",
    "        loss = train(dueling_network, memory, target_network=None)\n",
    "\n",
    "        state = next_state\n",
    "\n",
    "        # exponentially decay the eps value\n",
    "        steps += 1\n",
    "        eps = MIN_EPSILON + (MAX_EPSILON - MIN_EPSILON) * np.exp(-LAMBDA * steps)\n",
    "        \n",
    "        if done:\n",
    "            break\n",
    "\n",
    "print(f\"Model trained with {num_episodes} episodes\")\n",
    "\n",
    "torch.save(dueling_network, STORE_PATH + f\"pDuelingQN_{num_episodes}\")"
   ]
  },
  {
   "cell_type": "code",
   "execution_count": 15,
   "id": "3b966036",
   "metadata": {},
   "outputs": [
    {
     "name": "stderr",
     "output_type": "stream",
     "text": [
      "100%|██████████| 1000/1000 [00:00<00:00, 2723.31it/s]\n"
     ]
    },
    {
     "name": "stdout",
     "output_type": "stream",
     "text": [
      "Average reward: -0.185, Average episode length: 1.0\n"
     ]
    },
    {
     "data": {
      "image/png": "[encoded data removed]",
      "text/plain": [
       "<Figure size 1600x900 with 1 Axes>"
      ]
     },
     "metadata": {},
     "output_type": "display_data"
    }
   ],
   "source": [
    "def evaluate_duelingdqn_agent(env, network, num_episodes=1000):\n",
    "    total_rewards = []\n",
    "    total_steps = 0\n",
    "\n",
    "    for _ in tqdm(range(num_episodes)):\n",
    "        state, _ = env.reset()\n",
    "        episode_reward = 0\n",
    "        episode_steps = 0\n",
    "\n",
    "        while True:\n",
    "            state = torch.tensor(state, dtype=torch.float32)\n",
    "            action = choose_action(state, network, None, rng)\n",
    "            next_state, reward, done, _, _ = env.step(action)\n",
    "\n",
    "            episode_reward += reward\n",
    "            episode_steps += 1\n",
    "\n",
    "            if done:\n",
    "                break\n",
    "\n",
    "            state = next_state\n",
    "\n",
    "\n",
    "        total_rewards.append(episode_reward) \n",
    "        total_steps += episode_steps\n",
    "\n",
    "    avg_reward = sum(total_rewards) / num_episodes\n",
    "    avg_episode_length = total_steps / num_episodes\n",
    "\n",
    "    return avg_reward, avg_episode_length, total_rewards\n",
    "\n",
    "# Example usage:\n",
    "avg_reward, avg_episode_length, total_rewards= evaluate_duelingdqn_agent(env, dueling_network, num_episodes=1000)\n",
    "print(f\"Average reward: {avg_reward}, Average episode length: {avg_episode_length}\")\n",
    "plot_blackjack_performance(total_rewards, \"Dueling QN performance\")"
   ]
  }
 ],
 "metadata": {
  "kernelspec": {
   "display_name": "Python 3 (ipykernel)",
   "language": "python",
   "name": "python3"
  },
  "language_info": {
   "codemirror_mode": {
    "name": "ipython",
    "version": 3
   },
   "file_extension": ".py",
   "mimetype": "text/x-python",
   "name": "python",
   "nbconvert_exporter": "python",
   "pygments_lexer": "ipython3",
   "version": "3.11.5"
  }
 },
 "nbformat": 4,
 "nbformat_minor": 5
}
